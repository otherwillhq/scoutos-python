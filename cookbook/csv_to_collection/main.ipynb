{
 "cells": [
  {
   "cell_type": "markdown",
   "metadata": {},
   "source": [
    "## Upload CSV to Scout Collection\n",
    "\n",
    "This notebook demonstrates how to index a CSV file into a Scout collection.\n",
    "\n",
    "The example use case presented here involves adding a CSV file that contains a list of queries along with their expected responses. This functionality can be applied to various applications such as Relevance and Generation (RAG) Apps, model fine-tuning, semantic clustering, and more.\n",
    "\n",
    "Each row of the CSV will be stored as a separate document. The `text` field will be indexed for semantic search purposes. The `id` serves as the unique identifier for each document; if a document with the same `id` already exists, the new entry will overwrite the existing document. The `title` field of the document determines the title displayed in the dashboard.\n",
    "\n",
    "### Document Format\n",
    "\n",
    "When creating documents, the following fields are required:\n",
    "\n",
    "- `id`: A unique identifier for the document. It should be formatted as a string.\n",
    "- `text`: The main content of the document to be indexed. It should be formatted as a string.\n",
    "- `title`: The title of the document as it will appear in the dashboard. It should be formatted as a string.\n",
    "\n",
    "Here is an example of a Pydantic model representing the document structure:\n",
    "\n",
    "```python\n",
    "from pydantic import BaseModel\n",
    "\n",
    "class Document(BaseModel):\n",
    "    id: str\n",
    "    text: str\n",
    "    title: str\n",
    "    # Any additional keys and their values will be saved as metadata.\n",
    "    # The metadata can be of any valid datatype that is supported by JSON.\n",
    "```\n",
    "\n",
    "Please note that any additional keys and their corresponding values included in the document will be saved as metadata. The metadata can consist of any valid datatype that JSON supports.\n"
   ]
  },
  {
   "cell_type": "markdown",
   "metadata": {},
   "source": [
    "### Set the collection id and your orgs secret key, which can be found on the settings page of the dashboard."
   ]
  },
  {
   "cell_type": "code",
   "execution_count": 3,
   "metadata": {},
   "outputs": [],
   "source": [
    "import os\n",
    "\n",
    "COLLECTION_ID = ''\n",
    "API_KEY = ''"
   ]
  },
  {
   "cell_type": "markdown",
   "metadata": {},
   "source": [
    "### import libraries and set logger\n"
   ]
  },
  {
   "cell_type": "code",
   "execution_count": 2,
   "metadata": {},
   "outputs": [],
   "source": [
    "import pandas as pd\n",
    "import json\n",
    "import logging\n",
    "\n",
    "logger = logging.getLogger(__name__)"
   ]
  },
  {
   "cell_type": "markdown",
   "metadata": {},
   "source": [
    "### import csv and add a few columns\n"
   ]
  },
  {
   "cell_type": "code",
   "execution_count": null,
   "metadata": {},
   "outputs": [
    {
     "data": {
      "text/html": [
       "<div>\n",
       "<style scoped>\n",
       "    .dataframe tbody tr th:only-of-type {\n",
       "        vertical-align: middle;\n",
       "    }\n",
       "\n",
       "    .dataframe tbody tr th {\n",
       "        vertical-align: top;\n",
       "    }\n",
       "\n",
       "    .dataframe thead th {\n",
       "        text-align: right;\n",
       "    }\n",
       "</style>\n",
       "<table border=\"1\" class=\"dataframe\">\n",
       "  <thead>\n",
       "    <tr style=\"text-align: right;\">\n",
       "      <th></th>\n",
       "      <th>query</th>\n",
       "      <th>expected_response</th>\n",
       "      <th>category</th>\n",
       "      <th>id</th>\n",
       "      <th>title</th>\n",
       "      <th>text</th>\n",
       "    </tr>\n",
       "  </thead>\n",
       "  <tbody>\n",
       "    <tr>\n",
       "      <th>0</th>\n",
       "      <td>What’s Alex dogs name?</td>\n",
       "      <td>Wilbur</td>\n",
       "      <td>pets</td>\n",
       "      <td>What’s Alex dogs name?</td>\n",
       "      <td>What’s Alex dogs name?</td>\n",
       "      <td>What’s Alex dogs name?</td>\n",
       "    </tr>\n",
       "    <tr>\n",
       "      <th>1</th>\n",
       "      <td>What is the capital of SC?</td>\n",
       "      <td>Columbia</td>\n",
       "      <td>geography</td>\n",
       "      <td>What is the capital of SC?</td>\n",
       "      <td>What is the capital of SC?</td>\n",
       "      <td>What is the capital of SC?</td>\n",
       "    </tr>\n",
       "  </tbody>\n",
       "</table>\n",
       "</div>"
      ],
      "text/plain": [
       "                        query expected_response   category  \\\n",
       "0      What’s Alex dogs name?            Wilbur       pets   \n",
       "1  What is the capital of SC?          Columbia  geography   \n",
       "\n",
       "                           id                       title  \\\n",
       "0      What’s Alex dogs name?      What’s Alex dogs name?   \n",
       "1  What is the capital of SC?  What is the capital of SC?   \n",
       "\n",
       "                         text  \n",
       "0      What’s Alex dogs name?  \n",
       "1  What is the capital of SC?  "
      ]
     },
     "execution_count": 74,
     "metadata": {},
     "output_type": "execute_result"
    }
   ],
   "source": [
    "df = pd.read_csv(\"curations.csv\")\n",
    "\n",
    "# Add columns to the dataframe\n",
    "\n",
    "# 'id' serves as the unique identifier for the document. It will upsert the document if it already exists.\n",
    "df[\"id\"] = df[\"query\"]\n",
    "\n",
    "# 'title' is displayed as the title on the Scout dashboard.\n",
    "df[\"title\"] = df[\"query\"]\n",
    "\n",
    "# 'text' is the content that is embedded and indexed for vector search.\n",
    "df[\"text\"] = df[\"query\"]\n",
    "\n",
    "# The following columns don't have a specific function in relation to Scout.\n",
    "# They will be set as metadata on the document, which can be used for filtering and sorting.\n",
    "df[\"category\"] = df[\"category\"]\n",
    "df[\"expected_response\"] = df[\"expected_response\"]\n",
    "\n",
    "df"
   ]
  },
  {
   "cell_type": "markdown",
   "metadata": {},
   "source": [
    "convert df to list and post to scout index document endpoint\n"
   ]
  },
  {
   "cell_type": "code",
   "execution_count": null,
   "metadata": {},
   "outputs": [
    {
     "data": {
      "text/html": [
       "<div>\n",
       "<style scoped>\n",
       "    .dataframe tbody tr th:only-of-type {\n",
       "        vertical-align: middle;\n",
       "    }\n",
       "\n",
       "    .dataframe tbody tr th {\n",
       "        vertical-align: top;\n",
       "    }\n",
       "\n",
       "    .dataframe thead th {\n",
       "        text-align: right;\n",
       "    }\n",
       "</style>\n",
       "<table border=\"1\" class=\"dataframe\">\n",
       "  <thead>\n",
       "    <tr style=\"text-align: right;\">\n",
       "      <th></th>\n",
       "      <th>query</th>\n",
       "      <th>expected_response</th>\n",
       "      <th>category</th>\n",
       "      <th>id</th>\n",
       "      <th>title</th>\n",
       "      <th>text</th>\n",
       "      <th>index_job</th>\n",
       "    </tr>\n",
       "  </thead>\n",
       "  <tbody>\n",
       "    <tr>\n",
       "      <th>0</th>\n",
       "      <td>What’s Alex dogs name?</td>\n",
       "      <td>Wilbur</td>\n",
       "      <td>pets</td>\n",
       "      <td>What’s Alex dogs name?</td>\n",
       "      <td>What’s Alex dogs name?</td>\n",
       "      <td>What’s Alex dogs name?</td>\n",
       "      <td>{'id': '133c28ed-2660-4dd9-99a7-ffcdbf61a2f6'}</td>\n",
       "    </tr>\n",
       "    <tr>\n",
       "      <th>1</th>\n",
       "      <td>What is the capital of SC?</td>\n",
       "      <td>Columbia</td>\n",
       "      <td>geography</td>\n",
       "      <td>What is the capital of SC?</td>\n",
       "      <td>What is the capital of SC?</td>\n",
       "      <td>What is the capital of SC?</td>\n",
       "      <td>{'id': 'fbd17776-5567-4e0e-94c8-e60c8673c4bd'}</td>\n",
       "    </tr>\n",
       "  </tbody>\n",
       "</table>\n",
       "</div>"
      ],
      "text/plain": [
       "                        query expected_response   category  \\\n",
       "0      What’s Alex dogs name?            Wilbur       pets   \n",
       "1  What is the capital of SC?          Columbia  geography   \n",
       "\n",
       "                           id                       title  \\\n",
       "0      What’s Alex dogs name?      What’s Alex dogs name?   \n",
       "1  What is the capital of SC?  What is the capital of SC?   \n",
       "\n",
       "                         text                                       index_job  \n",
       "0      What’s Alex dogs name?  {'id': '133c28ed-2660-4dd9-99a7-ffcdbf61a2f6'}  \n",
       "1  What is the capital of SC?  {'id': 'fbd17776-5567-4e0e-94c8-e60c8673c4bd'}  "
      ]
     },
     "execution_count": 75,
     "metadata": {},
     "output_type": "execute_result"
    }
   ],
   "source": [
    "import requests\n",
    "\n",
    "BASE_URL = \"https://api.scoutos.com\"\n",
    "\n",
    "url = f\"{BASE_URL}/v1/collections/{COLLECTION_ID}/documents\"\n",
    "\n",
    "headers = {\"Content-Type\": \"application/json\", \"Authorization\": f\"Bearer {SECRET_KEY}\"}\n",
    "\n",
    "## convert to list of json objects\n",
    "documents = df.to_dict(orient=\"records\")\n",
    "\n",
    "\n",
    "body = {\"documents\": documents}\n",
    "\n",
    "\n",
    "response = requests.post(url, headers=headers, data=json.dumps(body))\n",
    "\n",
    "response.raise_for_status()\n",
    "\n",
    "res = response.json()\n",
    "\n",
    "\n",
    "## Add the index_job to the dataframe for display purposes\n",
    "\n",
    "\n",
    "df[\"index_job\"] = res[\"jobs\"]\n",
    "\n",
    "df"
   ]
  },
  {
   "cell_type": "markdown",
   "metadata": {},
   "source": [
    "# 💎🤲  Success!! you should see the documents in your collection on the Scout dashboard.\n"
   ]
  }
 ],
 "metadata": {
  "kernelspec": {
   "display_name": "base",
   "language": "python",
   "name": "python3"
  },
  "language_info": {
   "codemirror_mode": {
    "name": "ipython",
    "version": 3
   },
   "file_extension": ".py",
   "mimetype": "text/x-python",
   "name": "python",
   "nbconvert_exporter": "python",
   "pygments_lexer": "ipython3",
   "version": "3.11.2"
  }
 },
 "nbformat": 4,
 "nbformat_minor": 2
}
